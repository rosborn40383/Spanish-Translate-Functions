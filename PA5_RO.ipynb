{
 "cells": [
  {
   "cell_type": "markdown",
   "id": "c4793f80",
   "metadata": {},
   "source": [
    "## Richard Osborn\n",
    "PA5 01/08/2021 CS-150-01"
   ]
  },
  {
   "cell_type": "code",
   "execution_count": 74,
   "id": "9b9968b6",
   "metadata": {},
   "outputs": [
    {
     "name": "stdout",
     "output_type": "stream",
     "text": [
      "Enter a word to translate from English to Spanish(0 to stop): Hello\n",
      "The spansih word for Hello is Hola.\n",
      "Enter a word to translate from English to Spanish(0 to stop): Water\n",
      "The spansih word for Water is not in dictionary.\n",
      "Enter a word to translate from English to Spanish(0 to stop): 0\n"
     ]
    }
   ],
   "source": [
    "translator={'Hello':'Hola','Goodbye':'Adios','Yes':'Sí','Bad':'Mal','Tommorow':'Manyana',\"Yesterday\":'Hoy',\n",
    "                'Minute':'Minuto','Night':'Noche','Mother':'Madre','Stop':'Para','Hotel':'Hotel','Exit':'Salida',\n",
    "               'Airplane':'Aviòn','Ship':'Barco','Car':'Coche','Sun':'Sol','Ice':'Hielo','Rain':'llover','Boss':\n",
    "                'jefe','Work':'Trabajo','Cook':'Cocinero'}\n",
    "spanish=str()\n",
    "while spanish !='0':\n",
    "    spanish=str(input('Enter a word to translate from English to Spanish(0 to stop): '))\n",
    "    \n",
    "    if spanish != '0':\n",
    "        print('The spansih word for {} is {}.'.format(spanish,(translator.get(spanish, 'not in dictionary'))))\n",
    "    else:\n",
    "        exit()"
   ]
  },
  {
   "cell_type": "code",
   "execution_count": 66,
   "id": "670d634a",
   "metadata": {},
   "outputs": [
    {
     "name": "stdout",
     "output_type": "stream",
     "text": [
      "The coolest day is: 24.28   and the second warmest day is: 30.17\n",
      "All of the conversions is: {1: 30.27777777777778, 2: 30.166666666666664, 3: 30.0, 4: 29.833333333333336, 5: 29.666666666666668, 6: 29.499999999999996, 7: 29.333333333333332, 8: 29.166666666666664, 9: 29.0, 10: 28.777777777777775, 11: 28.555555555555557, 12: 28.388888888888886, 13: 28.166666666666668, 14: 27.944444444444443, 15: 27.722222222222225, 16: 27.5, 17: 27.277777777777775, 18: 27.055555555555557, 19: 26.833333333333332, 20: 26.611111111111114, 21: 26.333333333333336, 22: 26.11111111111111, 23: 25.888888888888886, 24: 25.666666666666668, 25: 25.444444444444443, 26: 25.222222222222225, 27: 25.0, 28: 24.72222222222222, 29: 24.499999999999996, 30: 24.27777777777778}\n"
     ]
    }
   ],
   "source": [
    "temp={1:86.5,2:86.3,3:86,4:85.7,5:85.4,6:85.1,7:84.8,8:84.5,9:84.2,10:83.8,11:83.4,12:83.1,13:82.7,14:82.3,\n",
    "     15:81.9,16:81.5,17:81.1,18:80.7,19:80.3,20:79.9,21:79.4,22:79,23:78.6,24:78.2,25:77.8,26:77.4,\n",
    "     27:77,28:76.5,29:76.1,30:75.7}\n",
    "temp2 = {a:(b-32)/1.8 for (a,b) in temp.items()}\n",
    "temp.update(temp2)\n",
    "print(\"The coolest day is: %.2f \"%temp[30],\" and the second warmest day is: %.2f\"%temp[2])\n",
    "print('All of the conversions is:',temp)"
   ]
  },
  {
   "cell_type": "code",
   "execution_count": 6,
   "id": "48a59980",
   "metadata": {},
   "outputs": [
    {
     "name": "stdout",
     "output_type": "stream",
     "text": [
      "{66, 7, 11, 77, 33, 674, 35, 44}\n"
     ]
    }
   ],
   "source": [
    "#symmetric_difference()\n",
    "#This will return values that are in both sets but none with the intersection\n",
    "math={11,55,674,35}\n",
    "math2={33,44,55,66,77,7}\n",
    "print(math.symmetric_difference(math2))"
   ]
  },
  {
   "cell_type": "code",
   "execution_count": 7,
   "id": "4be5e490",
   "metadata": {},
   "outputs": [
    {
     "name": "stdout",
     "output_type": "stream",
     "text": [
      "False\n"
     ]
    }
   ],
   "source": [
    "#isdisjoint()\n",
    "#This will show the intersection if they share any numbers or not. false means they do\n",
    "math={11,55,674,35}\n",
    "math2={33,44,55,66,77,7}\n",
    "print(math.isdisjoint(math2))"
   ]
  },
  {
   "cell_type": "code",
   "execution_count": 13,
   "id": "189732d8",
   "metadata": {},
   "outputs": [
    {
     "name": "stdout",
     "output_type": "stream",
     "text": [
      "{55}\n"
     ]
    }
   ],
   "source": [
    "#intersection_update(&=)\n",
    "#Prints just what is in the intersection\n",
    "math={11,55,674,35}\n",
    "math2={33,44,55,66,77,7}\n",
    "math.intersection_update(math2)\n",
    "print(math)"
   ]
  },
  {
   "cell_type": "code",
   "execution_count": 73,
   "id": "24a23629",
   "metadata": {},
   "outputs": [
    {
     "name": "stdout",
     "output_type": "stream",
     "text": [
      "{3, 6, 7, 45, 22, 632}\n"
     ]
    }
   ],
   "source": [
    "#symmetric difference(^=)\n",
    "#creates new list without elements that were togethe in the other two sets\n",
    "a={4,5,6,7,22}\n",
    "b={4,632,45,3,5}\n",
    "a^=b\n",
    "print(a)"
   ]
  },
  {
   "cell_type": "code",
   "execution_count": 59,
   "id": "7886505e",
   "metadata": {},
   "outputs": [
    {
     "name": "stdout",
     "output_type": "stream",
     "text": [
      "[4, 33, 22, 8]\n"
     ]
    }
   ],
   "source": [
    "#remove()\n",
    "#This will remove an element from the list\n",
    "x=[4,7,33,22,8]\n",
    "x.remove(7)\n",
    "print(x)\n"
   ]
  },
  {
   "cell_type": "code",
   "execution_count": 58,
   "id": "d0cc3708",
   "metadata": {},
   "outputs": [
    {
     "name": "stdout",
     "output_type": "stream",
     "text": [
      "{4, 6, 7, 8}\n"
     ]
    }
   ],
   "source": [
    "#discard()\n",
    "#Removes number from set, doesn't work for list or tuples\n",
    "z={4,5,6,7,8}\n",
    "z.discard(5)\n",
    "print(z)"
   ]
  },
  {
   "cell_type": "code",
   "execution_count": 56,
   "id": "939f1cc5",
   "metadata": {},
   "outputs": [
    {
     "name": "stdout",
     "output_type": "stream",
     "text": [
      "[4, 5, 6, 7, 9, 33, 55, 64, 24]\n"
     ]
    }
   ],
   "source": [
    "#pop()\n",
    "#removes returned value\n",
    "q=[4,5,6,7,8,9,33,55,64,24]\n",
    "q.pop(4)\n",
    "print(q)"
   ]
  },
  {
   "cell_type": "code",
   "execution_count": null,
   "id": "ea556a14",
   "metadata": {},
   "outputs": [],
   "source": []
  }
 ],
 "metadata": {
  "kernelspec": {
   "display_name": "Python 3",
   "language": "python",
   "name": "python3"
  },
  "language_info": {
   "codemirror_mode": {
    "name": "ipython",
    "version": 3
   },
   "file_extension": ".py",
   "mimetype": "text/x-python",
   "name": "python",
   "nbconvert_exporter": "python",
   "pygments_lexer": "ipython3",
   "version": "3.8.8"
  }
 },
 "nbformat": 4,
 "nbformat_minor": 5
}
